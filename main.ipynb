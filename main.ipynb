{
 "cells": [
  {
   "cell_type": "code",
   "execution_count": 1,
   "metadata": {},
   "outputs": [
    {
     "name": "stdout",
     "output_type": "stream",
     "text": [
      "You chose Gun and the computer chose Water\n",
      "You lose\n"
     ]
    }
   ],
   "source": [
    "# Snake water gun game in python \n",
    "'''\n",
    "Snake vs. Water: Snake drinks the water hence wins.\n",
    "Water vs. Gun: The gun will drown in water, hence a point for water\n",
    "Gun vs. Snake: Gun will kill the snake and win.\n",
    "In situations where both players choose the same object, the result will be a draw.\n",
    "\n",
    "'''\n",
    "\n",
    "import random\n",
    "\n",
    "def swg(comp, mine):\n",
    "    if (comp==mine):\n",
    "        return None\n",
    "    if(comp=='Snake' and mine =='Gun'):\n",
    "        return True \n",
    "    elif(comp=='Water' and mine =='Snake'):\n",
    "        return True \n",
    "    elif(comp=='Gun' and mine =='Water'):\n",
    "        return True \n",
    "    else:\n",
    "        return False\n",
    "\n",
    "choice = ('Snake', 'Water', 'Gun')\n",
    "comp = random.randint(0, 2)\n",
    "comp = choice[comp]\n",
    "mine = input('Choose either Snake, Water or Gun: ')\n",
    "\n",
    "win = swg(comp, mine)\n",
    "print(f\"You chose {mine} and the computer chose {comp}\")\n",
    "if win is None:\n",
    "    print(\"Match Drawn\")\n",
    "if win:\n",
    "    print(\"You won\")\n",
    "else:\n",
    "    print(\"You lose\")\n"
   ]
  }
 ],
 "metadata": {
  "interpreter": {
   "hash": "1cde6c449cbe22b22635258a3be9f5c484242994909f75bf50b1e6afd3652348"
  },
  "kernelspec": {
   "display_name": "Python 3.8.8 64-bit ('base': conda)",
   "name": "python3"
  },
  "language_info": {
   "codemirror_mode": {
    "name": "ipython",
    "version": 3
   },
   "file_extension": ".py",
   "mimetype": "text/x-python",
   "name": "python",
   "nbconvert_exporter": "python",
   "pygments_lexer": "ipython3",
   "version": "3.8.8"
  },
  "orig_nbformat": 4
 },
 "nbformat": 4,
 "nbformat_minor": 2
}
